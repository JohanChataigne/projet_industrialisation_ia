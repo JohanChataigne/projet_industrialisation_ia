{
 "cells": [
  {
   "cell_type": "markdown",
   "metadata": {},
   "source": [
    "## Imports"
   ]
  },
  {
   "cell_type": "code",
   "execution_count": 1,
   "metadata": {},
   "outputs": [],
   "source": [
    "import numpy as np\n",
    "import pandas as pd\n",
    "import os\n",
    "from preprocessing import Preprocessor\n",
    "from dataset_balancing import Balance"
   ]
  },
  {
   "cell_type": "code",
   "execution_count": 2,
   "metadata": {},
   "outputs": [],
   "source": [
    "import tensorflow as tf\n",
    "from tensorflow.keras import Sequential \n",
    "from tensorflow.keras.layers import Dense, Dropout, Bidirectional, LSTM, Input\n",
    "from tensorflow.keras.metrics import Precision"
   ]
  },
  {
   "cell_type": "code",
   "execution_count": 3,
   "metadata": {},
   "outputs": [],
   "source": [
    "from sklearn.metrics import classification_report, roc_auc_score, confusion_matrix, log_loss, roc_curve, fbeta_score"
   ]
  },
  {
   "cell_type": "markdown",
   "metadata": {},
   "source": [
    "## Data preprocessing"
   ]
  },
  {
   "cell_type": "code",
   "execution_count": 4,
   "metadata": {},
   "outputs": [
    {
     "name": "stdout",
     "output_type": "stream",
     "text": [
      "Train shape : (6035, 2)\n",
      "Test shape : (1065, 2)\n"
     ]
    }
   ],
   "source": [
    "# Load training and test sets\n",
    "df_train = pd.read_json('datas/training_set.json')\n",
    "df_test = pd.read_json('datas/testing_set.json')\n",
    "\n",
    "print(f\"Train shape : {df_train.shape}\")\n",
    "print(f\"Test shape : {df_test.shape}\")"
   ]
  },
  {
   "cell_type": "code",
   "execution_count": 5,
   "metadata": {},
   "outputs": [],
   "source": [
    "# Balance the train set\n",
    "train_balance = Balance(df_train)\n",
    "train_balance.process_balance('./preprocessed_data/train_balanced')"
   ]
  },
  {
   "cell_type": "code",
   "execution_count": 6,
   "metadata": {},
   "outputs": [],
   "source": [
    "# Preprocess the data\n",
    "train_preprocessor = Preprocessor(train_balance.df_dataset)\n",
    "train_preprocessor.preprocess('./preprocessed_data/train_nlp_preprocessed')\n",
    "test_preprocessor = Preprocessor(df_test)\n",
    "test_preprocessor.preprocess('./preprocessed_data/test_nlp_preprocessed')"
   ]
  },
  {
   "cell_type": "code",
   "execution_count": 7,
   "metadata": {},
   "outputs": [
    {
     "data": {
      "text/html": [
       "<div>\n",
       "<style scoped>\n",
       "    .dataframe tbody tr th:only-of-type {\n",
       "        vertical-align: middle;\n",
       "    }\n",
       "\n",
       "    .dataframe tbody tr th {\n",
       "        vertical-align: top;\n",
       "    }\n",
       "\n",
       "    .dataframe thead th {\n",
       "        text-align: right;\n",
       "    }\n",
       "</style>\n",
       "<table border=\"1\" class=\"dataframe\">\n",
       "  <thead>\n",
       "    <tr style=\"text-align: right;\">\n",
       "      <th></th>\n",
       "      <th>sentence</th>\n",
       "      <th>intent</th>\n",
       "    </tr>\n",
       "  </thead>\n",
       "  <tbody>\n",
       "    <tr>\n",
       "      <th>0</th>\n",
       "      <td>[[-0.0033358, -8.6066, -7.4396, -3.3738, 12.51...</td>\n",
       "      <td>[0.0, 0.0, 0.0, 0.0, 0.0, 1.0, 0.0, 0.0]</td>\n",
       "    </tr>\n",
       "    <tr>\n",
       "      <th>1</th>\n",
       "      <td>[[-3.398, 3.652, -11.154, -0.76505, 0.59124, -...</td>\n",
       "      <td>[0.0, 0.0, 0.0, 0.0, 0.0, 1.0, 0.0, 0.0]</td>\n",
       "    </tr>\n",
       "    <tr>\n",
       "      <th>2</th>\n",
       "      <td>[[-0.78445, -3.7161, 1.5587, 3.4742, -2.844, 2...</td>\n",
       "      <td>[0.0, 0.0, 0.0, 0.0, 0.0, 1.0, 0.0, 0.0]</td>\n",
       "    </tr>\n",
       "    <tr>\n",
       "      <th>3</th>\n",
       "      <td>[[-0.0033358, -8.6066, -7.4396, -3.3738, 12.51...</td>\n",
       "      <td>[0.0, 0.0, 0.0, 0.0, 0.0, 1.0, 0.0, 0.0]</td>\n",
       "    </tr>\n",
       "    <tr>\n",
       "      <th>4</th>\n",
       "      <td>[[-1.0319, 4.7613, -7.8448, -1.0902, 1.3204, 0...</td>\n",
       "      <td>[0.0, 0.0, 0.0, 0.0, 0.0, 1.0, 0.0, 0.0]</td>\n",
       "    </tr>\n",
       "  </tbody>\n",
       "</table>\n",
       "</div>"
      ],
      "text/plain": [
       "                                            sentence  \\\n",
       "0  [[-0.0033358, -8.6066, -7.4396, -3.3738, 12.51...   \n",
       "1  [[-3.398, 3.652, -11.154, -0.76505, 0.59124, -...   \n",
       "2  [[-0.78445, -3.7161, 1.5587, 3.4742, -2.844, 2...   \n",
       "3  [[-0.0033358, -8.6066, -7.4396, -3.3738, 12.51...   \n",
       "4  [[-1.0319, 4.7613, -7.8448, -1.0902, 1.3204, 0...   \n",
       "\n",
       "                                     intent  \n",
       "0  [0.0, 0.0, 0.0, 0.0, 0.0, 1.0, 0.0, 0.0]  \n",
       "1  [0.0, 0.0, 0.0, 0.0, 0.0, 1.0, 0.0, 0.0]  \n",
       "2  [0.0, 0.0, 0.0, 0.0, 0.0, 1.0, 0.0, 0.0]  \n",
       "3  [0.0, 0.0, 0.0, 0.0, 0.0, 1.0, 0.0, 0.0]  \n",
       "4  [0.0, 0.0, 0.0, 0.0, 0.0, 1.0, 0.0, 0.0]  "
      ]
     },
     "execution_count": 7,
     "metadata": {},
     "output_type": "execute_result"
    }
   ],
   "source": [
    "train_preprocessor.df_dataset.head()"
   ]
  },
  {
   "cell_type": "code",
   "execution_count": 8,
   "metadata": {},
   "outputs": [
    {
     "name": "stdout",
     "output_type": "stream",
     "text": [
      "x_train.shape =  (15995, 93, 300)\n",
      "y_train.shape =  (15995, 8)\n",
      "x_test.shape =  (1065, 92, 300)\n",
      "y_test.shape =  (1065, 8)\n"
     ]
    }
   ],
   "source": [
    "x_train = np.array(list(train_preprocessor.df_dataset['sentence']))\n",
    "y_train = np.array(list(train_preprocessor.df_dataset['intent']))\n",
    "x_test = np.array(list(test_preprocessor.df_dataset['sentence']))\n",
    "y_test = np.array(list(test_preprocessor.df_dataset['intent']))\n",
    "\n",
    "print(\"x_train.shape = \", x_train.shape)\n",
    "print(\"y_train.shape = \", y_train.shape)\n",
    "print(\"x_test.shape = \", x_test.shape)\n",
    "print(\"y_test.shape = \", y_test.shape)"
   ]
  },
  {
   "cell_type": "markdown",
   "metadata": {},
   "source": [
    "## Model creation and training"
   ]
  },
  {
   "cell_type": "code",
   "execution_count": 9,
   "metadata": {},
   "outputs": [
    {
     "name": "stdout",
     "output_type": "stream",
     "text": [
      "Model: \"sequential\"\n",
      "_________________________________________________________________\n",
      "Layer (type)                 Output Shape              Param #   \n",
      "=================================================================\n",
      "bidirectional (Bidirectional (None, 128)               186880    \n",
      "_________________________________________________________________\n",
      "dense (Dense)                (None, 64)                8256      \n",
      "_________________________________________________________________\n",
      "dropout (Dropout)            (None, 64)                0         \n",
      "_________________________________________________________________\n",
      "dense_1 (Dense)              (None, 64)                4160      \n",
      "_________________________________________________________________\n",
      "dropout_1 (Dropout)          (None, 64)                0         \n",
      "_________________________________________________________________\n",
      "dense_2 (Dense)              (None, 8)                 520       \n",
      "=================================================================\n",
      "Total params: 199,816\n",
      "Trainable params: 199,816\n",
      "Non-trainable params: 0\n",
      "_________________________________________________________________\n"
     ]
    }
   ],
   "source": [
    "model = Sequential()\n",
    "model.add(Input(shape=x_train[0].shape))\n",
    "model.add(Bidirectional(LSTM(64)))\n",
    "model.add(Dense(64, activation='relu'))\n",
    "model.add(Dropout(0.5))\n",
    "model.add(Dense(64, activation='relu'))\n",
    "model.add(Dropout(0.5))\n",
    "model.add(Dense(8, activation='softmax'))\n",
    "\n",
    "model.summary()"
   ]
  },
  {
   "cell_type": "code",
   "execution_count": 10,
   "metadata": {},
   "outputs": [
    {
     "name": "stdout",
     "output_type": "stream",
     "text": [
      "Epoch 1/20\n",
      "125/125 [==============================] - 18s 104ms/step - loss: 1.9321 - precision: 0.5725\n",
      "Epoch 2/20\n",
      "125/125 [==============================] - 13s 104ms/step - loss: 0.9054 - precision: 0.8189\n",
      "Epoch 3/20\n",
      "125/125 [==============================] - 13s 106ms/step - loss: 0.4390 - precision: 0.9043\n",
      "Epoch 4/20\n",
      "125/125 [==============================] - 14s 109ms/step - loss: 0.2488 - precision: 0.9452\n",
      "Epoch 5/20\n",
      "125/125 [==============================] - 14s 109ms/step - loss: 0.1765 - precision: 0.9614\n",
      "Epoch 6/20\n",
      "125/125 [==============================] - 14s 113ms/step - loss: 0.1257 - precision: 0.9725\n",
      "Epoch 7/20\n",
      "125/125 [==============================] - 14s 115ms/step - loss: 0.0889 - precision: 0.9810\n",
      "Epoch 8/20\n",
      "125/125 [==============================] - 14s 115ms/step - loss: 0.0675 - precision: 0.9848\n",
      "Epoch 9/20\n",
      "125/125 [==============================] - 14s 114ms/step - loss: 0.0573 - precision: 0.9875\n",
      "Epoch 10/20\n",
      "125/125 [==============================] - 14s 114ms/step - loss: 0.0506 - precision: 0.9900\n",
      "Epoch 11/20\n",
      "125/125 [==============================] - 14s 114ms/step - loss: 0.0461 - precision: 0.9890\n",
      "Epoch 12/20\n",
      "125/125 [==============================] - 14s 115ms/step - loss: 0.0345 - precision: 0.9927\n",
      "Epoch 13/20\n",
      "125/125 [==============================] - 14s 114ms/step - loss: 0.0307 - precision: 0.9928\n",
      "Epoch 14/20\n",
      "125/125 [==============================] - 14s 114ms/step - loss: 0.0309 - precision: 0.9937\n",
      "Epoch 15/20\n",
      "125/125 [==============================] - 14s 114ms/step - loss: 0.0330 - precision: 0.9921\n",
      "Epoch 16/20\n",
      "125/125 [==============================] - 14s 116ms/step - loss: 0.0301 - precision: 0.9924\n",
      "Epoch 17/20\n",
      "125/125 [==============================] - 15s 116ms/step - loss: 0.0294 - precision: 0.9935\n",
      "Epoch 18/20\n",
      "125/125 [==============================] - 15s 124ms/step - loss: 0.0290 - precision: 0.9930\n",
      "Epoch 19/20\n",
      "125/125 [==============================] - 16s 128ms/step - loss: 0.0266 - precision: 0.9946\n",
      "Epoch 20/20\n",
      "125/125 [==============================] - 16s 127ms/step - loss: 0.0205 - precision: 0.9956\n"
     ]
    }
   ],
   "source": [
    "model.compile(\n",
    "    optimizer='adam', loss='categorical_crossentropy', metrics=[Precision()]\n",
    ")\n",
    "\n",
    "history = model.fit(x_train, y_train, batch_size=128, epochs=20, verbose=1)"
   ]
  },
  {
   "cell_type": "code",
   "execution_count": 11,
   "metadata": {},
   "outputs": [
    {
     "name": "stderr",
     "output_type": "stream",
     "text": [
      "WARNING:absl:Found untraced functions such as lstm_cell_1_layer_call_and_return_conditional_losses, lstm_cell_1_layer_call_fn, lstm_cell_2_layer_call_and_return_conditional_losses, lstm_cell_2_layer_call_fn, lstm_cell_1_layer_call_fn while saving (showing 5 of 10). These functions will not be directly callable after loading.\n",
      "WARNING:absl:Found untraced functions such as lstm_cell_1_layer_call_and_return_conditional_losses, lstm_cell_1_layer_call_fn, lstm_cell_2_layer_call_and_return_conditional_losses, lstm_cell_2_layer_call_fn, lstm_cell_1_layer_call_fn while saving (showing 5 of 10). These functions will not be directly callable after loading.\n"
     ]
    },
    {
     "name": "stdout",
     "output_type": "stream",
     "text": [
      "INFO:tensorflow:Assets written to: ./models/model_v1\\assets\n"
     ]
    },
    {
     "name": "stderr",
     "output_type": "stream",
     "text": [
      "INFO:tensorflow:Assets written to: ./models/model_v1\\assets\n"
     ]
    }
   ],
   "source": [
    "model.save('./models/model_v1')"
   ]
  },
  {
   "cell_type": "code",
   "execution_count": 12,
   "metadata": {},
   "outputs": [
    {
     "name": "stdout",
     "output_type": "stream",
     "text": [
      "WARNING:tensorflow:Model was constructed with shape (None, 93, 300) for input KerasTensor(type_spec=TensorSpec(shape=(None, 93, 300), dtype=tf.float32, name='input_1'), name='input_1', description=\"created by layer 'input_1'\"), but it was called on an input with incompatible shape (None, 92, 300).\n"
     ]
    },
    {
     "name": "stderr",
     "output_type": "stream",
     "text": [
      "WARNING:tensorflow:Model was constructed with shape (None, 93, 300) for input KerasTensor(type_spec=TensorSpec(shape=(None, 93, 300), dtype=tf.float32, name='input_1'), name='input_1', description=\"created by layer 'input_1'\"), but it was called on an input with incompatible shape (None, 92, 300).\n"
     ]
    },
    {
     "name": "stdout",
     "output_type": "stream",
     "text": [
      "34/34 [==============================] - 1s 14ms/step - loss: 1.2395 - precision: 0.8431\n"
     ]
    }
   ],
   "source": [
    "score = model.evaluate(x_test, y_test)"
   ]
  },
  {
   "cell_type": "code",
   "execution_count": 13,
   "metadata": {},
   "outputs": [
    {
     "name": "stdout",
     "output_type": "stream",
     "text": [
      "Test loss = 1.2395265102386475\n",
      "Test precision = 0.8431001901626587\n"
     ]
    }
   ],
   "source": [
    "print(\"Test loss =\", score[0])\n",
    "print(\"Test precision =\", score[1])"
   ]
  },
  {
   "cell_type": "code",
   "execution_count": 14,
   "metadata": {},
   "outputs": [
    {
     "name": "stdout",
     "output_type": "stream",
     "text": [
      "WARNING:tensorflow:Model was constructed with shape (None, 93, 300) for input KerasTensor(type_spec=TensorSpec(shape=(None, 93, 300), dtype=tf.float32, name='input_1'), name='input_1', description=\"created by layer 'input_1'\"), but it was called on an input with incompatible shape (None, 92, 300).\n"
     ]
    },
    {
     "name": "stderr",
     "output_type": "stream",
     "text": [
      "WARNING:tensorflow:Model was constructed with shape (None, 93, 300) for input KerasTensor(type_spec=TensorSpec(shape=(None, 93, 300), dtype=tf.float32, name='input_1'), name='input_1', description=\"created by layer 'input_1'\"), but it was called on an input with incompatible shape (None, 92, 300).\n"
     ]
    },
    {
     "name": "stdout",
     "output_type": "stream",
     "text": [
      "(1065, 8)\n",
      "[1.7130101e-06 1.8774951e-04 7.8208183e-07 9.8333874e-07 9.9948847e-01\n",
      " 3.1800562e-04 6.1540169e-07 1.6887410e-06]\n",
      "[0. 1. 0. 0. 0. 0. 0. 0.]\n"
     ]
    }
   ],
   "source": [
    "y_pred = model.predict(x_test)\n",
    "print(y_pred.shape)\n",
    "print(y_pred[0])\n",
    "print(y_test[0])"
   ]
  },
  {
   "cell_type": "code",
   "execution_count": 15,
   "metadata": {},
   "outputs": [
    {
     "name": "stdout",
     "output_type": "stream",
     "text": [
      "1065\n",
      "1065\n"
     ]
    }
   ],
   "source": [
    "y_test_true = list(map(lambda x: np.argmax(x), y_test))\n",
    "y_test_pred = list(map(lambda x: np.argmax(x), y_pred))\n",
    "print(len(y_test_true))\n",
    "print(len(y_test_pred))"
   ]
  },
  {
   "cell_type": "code",
   "execution_count": 16,
   "metadata": {},
   "outputs": [
    {
     "name": "stdout",
     "output_type": "stream",
     "text": [
      "[1, 1, 1, 4, 3, 1, 0, 1, 1, 1]\n",
      "[4, 1, 1, 4, 3, 1, 0, 1, 1, 1]\n"
     ]
    }
   ],
   "source": [
    "print(y_test_true[:10])\n",
    "print(y_test_pred[:10])"
   ]
  },
  {
   "cell_type": "code",
   "execution_count": 17,
   "metadata": {},
   "outputs": [
    {
     "name": "stdout",
     "output_type": "stream",
     "text": [
      "0.8560412208044338\n"
     ]
    }
   ],
   "source": [
    "fbeta = fbeta_score(y_test_true, y_test_pred, beta=0.5, labels=list(range(8)), average='weighted')\n",
    "print(fbeta)"
   ]
  }
 ],
 "metadata": {
  "kernelspec": {
   "display_name": "Python 3",
   "language": "python",
   "name": "python3"
  },
  "language_info": {
   "codemirror_mode": {
    "name": "ipython",
    "version": 3
   },
   "file_extension": ".py",
   "mimetype": "text/x-python",
   "name": "python",
   "nbconvert_exporter": "python",
   "pygments_lexer": "ipython3",
   "version": "3.6.12"
  }
 },
 "nbformat": 4,
 "nbformat_minor": 4
}
