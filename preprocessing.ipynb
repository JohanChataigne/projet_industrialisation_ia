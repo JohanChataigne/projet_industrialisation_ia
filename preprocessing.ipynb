{
 "cells": [
  {
   "cell_type": "markdown",
   "metadata": {},
   "source": [
    "# Preprocessing"
   ]
  },
  {
   "cell_type": "markdown",
   "metadata": {},
   "source": [
    "## Imports"
   ]
  },
  {
   "cell_type": "code",
   "execution_count": 1,
   "metadata": {},
   "outputs": [],
   "source": [
    "import numpy as np\n",
    "import pandas as pd\n",
    "import matplotlib.pyplot as plt\n",
    "import re"
   ]
  },
  {
   "cell_type": "code",
   "execution_count": 2,
   "metadata": {},
   "outputs": [],
   "source": [
    "import spacy\n",
    "from tensorflow.keras.preprocessing.sequence import pad_sequences"
   ]
  },
  {
   "cell_type": "markdown",
   "metadata": {},
   "source": [
    "## Data Loading"
   ]
  },
  {
   "cell_type": "code",
   "execution_count": 16,
   "metadata": {},
   "outputs": [
    {
     "name": "stdout",
     "output_type": "stream",
     "text": [
      ":)\n",
      "['irrelevant', 'irrelevant', 'purchase']\n",
      "2937\n"
     ]
    }
   ],
   "source": [
    "# In the future load dataset from repository instead of json file\n",
    "\n",
    "df = pd.read_json('./datas/training_set.json')\n",
    "\n",
    "sentences = list(df['sentence'])\n",
    "labels = list(df['intent'])\n",
    "print(sentences[217])\n",
    "print(labels[:3])\n",
    "print(sentences.index(max(sentences, key=len)))"
   ]
  },
  {
   "cell_type": "markdown",
   "metadata": {},
   "source": [
    "## Text preprocessing"
   ]
  },
  {
   "cell_type": "code",
   "execution_count": 5,
   "metadata": {},
   "outputs": [
    {
     "name": "stdout",
     "output_type": "stream",
     "text": [
      "122\n"
     ]
    }
   ],
   "source": [
    "nlp = spacy.load('fr_core_news_md')\n",
    "print(len(nlp(sentences[2937])))"
   ]
  },
  {
   "cell_type": "code",
   "execution_count": 11,
   "metadata": {},
   "outputs": [],
   "source": [
    "# Remove some special characters and split sentences\n",
    "def clean(sentences):\n",
    "    \n",
    "    clean_text = []\n",
    "    \n",
    "    print(sentences)\n",
    "        \n",
    "    # remove special characters\n",
    "    for s in sentences:\n",
    "        cs = re.sub(r'[^ A-Za-z0-9éèàêî€]', '', s)\n",
    "        #ls = cs.lower()\n",
    "        ts = nlp(cs)\n",
    "\n",
    "        # Exclude empty sentences\n",
    "        if len(ts) > 0: clean_text.append(ts)\n",
    "        \n",
    "    return clean_text\n",
    "\n",
    "# Transform words into their vector representation\n",
    "def vectorize(clean_text):\n",
    "    \n",
    "    vectorized_text = []\n",
    "    null_vector = np.zeros(300)\n",
    "    \n",
    "    for s in clean_text:\n",
    "        vects = [w.vector if w.has_vector else null_vector for w in s]\n",
    "        vectorized_text.append(vects)\n",
    "        \n",
    "    return vectorized_text\n",
    "\n",
    "# add padding to sentences to have same size datas\n",
    "def pad(sequences):\n",
    "    return pad_sequences(sequences, dtype='float32', padding='post')\n",
    "\n",
    "# Apply the whole pipeline to input sentences and return them as numpy array object\n",
    "def preprocess_sentences(sentences):\n",
    "    return np.asarray(pad(vectorize(clean(sentences))))\n",
    "    \n",
    "# Displays doc object tokens and size\n",
    "def printDoc(doc):\n",
    "    \n",
    "    print(f'length: {len(doc)}')\n",
    "    for t in doc:\n",
    "        print(t.text)"
   ]
  },
  {
   "cell_type": "code",
   "execution_count": null,
   "metadata": {},
   "outputs": [],
   "source": [
    "preprocessed_sentences = preprocess_sentences(sentences)\n",
    "print(preprocessed_sentences.shape)"
   ]
  },
  {
   "cell_type": "markdown",
   "metadata": {},
   "source": [
    "## Intents preprocessing"
   ]
  },
  {
   "cell_type": "code",
   "execution_count": null,
   "metadata": {},
   "outputs": [],
   "source": [
    "# List of all intents in the same order as the model's output\n",
    "intents = [\"find-train\", \"irrelevant\", \"find-flight\", \"find-restaurant\", \"purchase\", \"find-around-me\", \"provide-showtimes\", \"find-hotel\"]\n",
    "\n",
    "# One hot encode labels (take string representation of the label)\n",
    "def label2vec(label):\n",
    "    assert label in intents\n",
    "    \n",
    "    idx = intents.index(label)\n",
    "    vec = np.zeros(len(intents))\n",
    "    vec[idx] = 1\n",
    "    return vec"
   ]
  },
  {
   "cell_type": "code",
   "execution_count": null,
   "metadata": {},
   "outputs": [],
   "source": [
    "preprocessed_labels = np.asarray(list(map(label2vec, labels)))\n",
    "print(preprocessed_labels.shape)"
   ]
  },
  {
   "cell_type": "markdown",
   "metadata": {},
   "source": [
    "## Save preprocessed datas"
   ]
  },
  {
   "cell_type": "code",
   "execution_count": null,
   "metadata": {},
   "outputs": [],
   "source": []
  }
 ],
 "metadata": {
  "kernelspec": {
   "display_name": "Python 3",
   "language": "python",
   "name": "python3"
  },
  "language_info": {
   "codemirror_mode": {
    "name": "ipython",
    "version": 3
   },
   "file_extension": ".py",
   "mimetype": "text/x-python",
   "name": "python",
   "nbconvert_exporter": "python",
   "pygments_lexer": "ipython3",
   "version": "3.8.3"
  }
 },
 "nbformat": 4,
 "nbformat_minor": 4
}
