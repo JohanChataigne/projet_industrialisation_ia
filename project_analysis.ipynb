{
 "cells": [
  {
   "cell_type": "markdown",
   "metadata": {},
   "source": [
    "<a id='data_section'></a>\n",
    "# Data section"
   ]
  },
  {
   "cell_type": "markdown",
   "metadata": {},
   "source": [
    "This section adds some informations about the datas used to train and test the model. It is important to know well the dataset if we want to explain the current model's behavior and improve it."
   ]
  },
  {
   "cell_type": "markdown",
   "metadata": {},
   "source": [
    "## Imports"
   ]
  },
  {
   "cell_type": "code",
   "execution_count": 19,
   "metadata": {},
   "outputs": [],
   "source": [
    "import pandas as pd\n",
    "import requests as rq\n",
    "import numpy as np\n",
    "import os\n",
    "from sklearn.metrics import classification_report, roc_auc_score, confusion_matrix, log_loss, roc_curve, fbeta_score\n",
    "import seaborn as sns\n",
    "import matplotlib.pyplot as plt"
   ]
  },
  {
   "cell_type": "markdown",
   "metadata": {},
   "source": [
    "## Data Loading"
   ]
  },
  {
   "cell_type": "code",
   "execution_count": 2,
   "metadata": {},
   "outputs": [
    {
     "name": "stdout",
     "output_type": "stream",
     "text": [
      "Train shape : (6035, 2)\n",
      "Test shape : (1065, 2)\n"
     ]
    }
   ],
   "source": [
    "# Load training and test sets\n",
    "\n",
    "df_train = pd.read_json('datas/training_set.json')\n",
    "df_test = pd.read_json('datas/testing_set.json')\n",
    "\n",
    "print(f\"Train shape : {df_train.shape}\")\n",
    "print(f\"Test shape : {df_test.shape}\")"
   ]
  },
  {
   "cell_type": "markdown",
   "metadata": {},
   "source": [
    "## Informations and visualisations of datasets"
   ]
  },
  {
   "cell_type": "code",
   "execution_count": 3,
   "metadata": {},
   "outputs": [
    {
     "data": {
      "text/html": [
       "<div>\n",
       "<style scoped>\n",
       "    .dataframe tbody tr th:only-of-type {\n",
       "        vertical-align: middle;\n",
       "    }\n",
       "\n",
       "    .dataframe tbody tr th {\n",
       "        vertical-align: top;\n",
       "    }\n",
       "\n",
       "    .dataframe thead th {\n",
       "        text-align: right;\n",
       "    }\n",
       "</style>\n",
       "<table border=\"1\" class=\"dataframe\">\n",
       "  <thead>\n",
       "    <tr style=\"text-align: right;\">\n",
       "      <th></th>\n",
       "      <th>intent</th>\n",
       "      <th>sentence</th>\n",
       "    </tr>\n",
       "  </thead>\n",
       "  <tbody>\n",
       "    <tr>\n",
       "      <th>count</th>\n",
       "      <td>6035</td>\n",
       "      <td>6035</td>\n",
       "    </tr>\n",
       "    <tr>\n",
       "      <th>unique</th>\n",
       "      <td>8</td>\n",
       "      <td>6035</td>\n",
       "    </tr>\n",
       "    <tr>\n",
       "      <th>top</th>\n",
       "      <td>irrelevant</td>\n",
       "      <td>Classique</td>\n",
       "    </tr>\n",
       "    <tr>\n",
       "      <th>freq</th>\n",
       "      <td>3852</td>\n",
       "      <td>1</td>\n",
       "    </tr>\n",
       "  </tbody>\n",
       "</table>\n",
       "</div>"
      ],
      "text/plain": [
       "            intent   sentence\n",
       "count         6035       6035\n",
       "unique           8       6035\n",
       "top     irrelevant  Classique\n",
       "freq          3852          1"
      ]
     },
     "execution_count": 3,
     "metadata": {},
     "output_type": "execute_result"
    }
   ],
   "source": [
    "# Stats on the training set\n",
    "df_train.describe()"
   ]
  },
  {
   "cell_type": "markdown",
   "metadata": {},
   "source": [
    "### Comments\n",
    "We see here there is indeed a total of 8 dfferent intents.\n",
    "Moreover, the *irrelevant* intent in highly represented in the dataset (3852/6035).  \n",
    "\n",
    "This can be good since *irrelevant* is the intent for every sentence that doesn't fit one of the 7 others. It is less specific than the others so it may need more examples to be well-recognized. Nevertheless, it can involve weak detections for the other intents by the model, because of a too small amount of examples."
   ]
  },
  {
   "cell_type": "code",
   "execution_count": 4,
   "metadata": {},
   "outputs": [
    {
     "name": "stdout",
     "output_type": "stream",
     "text": [
      "<class 'pandas.core.frame.DataFrame'>\n",
      "RangeIndex: 6035 entries, 0 to 6034\n",
      "Data columns (total 2 columns):\n",
      " #   Column    Non-Null Count  Dtype \n",
      "---  ------    --------------  ----- \n",
      " 0   intent    6035 non-null   object\n",
      " 1   sentence  6035 non-null   object\n",
      "dtypes: object(2)\n",
      "memory usage: 94.4+ KB\n"
     ]
    }
   ],
   "source": [
    "# Informations about colums\n",
    "df_train.info()"
   ]
  },
  {
   "cell_type": "markdown",
   "metadata": {},
   "source": [
    "### Comments\n",
    "The dataset is made of 2 columns:\n",
    "- `intent` is our target\n",
    "- `sentence` is the input, it's what the user will give to the model\n",
    "\n",
    "Both columns are categorical, we have no numerical value here.\n",
    "In addition, there isn't any missing value (*non-null*).  \n",
    "To finish, an important preprocessing part is needed before feeding a model with the datas since it is text (*i.e.* Tokenization, Word2Vec, ...)."
   ]
  },
  {
   "cell_type": "code",
   "execution_count": 5,
   "metadata": {},
   "outputs": [
    {
     "data": {
      "text/html": [
       "<div>\n",
       "<style scoped>\n",
       "    .dataframe tbody tr th:only-of-type {\n",
       "        vertical-align: middle;\n",
       "    }\n",
       "\n",
       "    .dataframe tbody tr th {\n",
       "        vertical-align: top;\n",
       "    }\n",
       "\n",
       "    .dataframe thead th {\n",
       "        text-align: right;\n",
       "    }\n",
       "</style>\n",
       "<table border=\"1\" class=\"dataframe\">\n",
       "  <thead>\n",
       "    <tr style=\"text-align: right;\">\n",
       "      <th></th>\n",
       "      <th>intent</th>\n",
       "      <th>sentence</th>\n",
       "    </tr>\n",
       "  </thead>\n",
       "  <tbody>\n",
       "    <tr>\n",
       "      <th>0</th>\n",
       "      <td>irrelevant</td>\n",
       "      <td>850€ maximum pour le loyer, à partir de janvie...</td>\n",
       "    </tr>\n",
       "    <tr>\n",
       "      <th>1</th>\n",
       "      <td>irrelevant</td>\n",
       "      <td>D'imprimer</td>\n",
       "    </tr>\n",
       "    <tr>\n",
       "      <th>2</th>\n",
       "      <td>purchase</td>\n",
       "      <td>Le meilleur cabriolet hybrid moins de 5m10 min...</td>\n",
       "    </tr>\n",
       "    <tr>\n",
       "      <th>3</th>\n",
       "      <td>find-hotel</td>\n",
       "      <td>en ce moment je cher un location pour les vaca...</td>\n",
       "    </tr>\n",
       "    <tr>\n",
       "      <th>4</th>\n",
       "      <td>irrelevant</td>\n",
       "      <td>c'est possible de t'utiliser la nuit ?</td>\n",
       "    </tr>\n",
       "    <tr>\n",
       "      <th>5</th>\n",
       "      <td>irrelevant</td>\n",
       "      <td>J'ai besoin d'acheter un fusil</td>\n",
       "    </tr>\n",
       "    <tr>\n",
       "      <th>6</th>\n",
       "      <td>irrelevant</td>\n",
       "      <td>Vous pouvez réserver pour 09h oui</td>\n",
       "    </tr>\n",
       "    <tr>\n",
       "      <th>7</th>\n",
       "      <td>irrelevant</td>\n",
       "      <td>Du 20 au 22 novembre pour 100-150 euros la nuit</td>\n",
       "    </tr>\n",
       "    <tr>\n",
       "      <th>8</th>\n",
       "      <td>purchase</td>\n",
       "      <td>Mon docteur m'a suggéré de porter des bandes p...</td>\n",
       "    </tr>\n",
       "    <tr>\n",
       "      <th>9</th>\n",
       "      <td>purchase</td>\n",
       "      <td>Commande à effectuer : 30 bloc note petits car...</td>\n",
       "    </tr>\n",
       "  </tbody>\n",
       "</table>\n",
       "</div>"
      ],
      "text/plain": [
       "       intent                                           sentence\n",
       "0  irrelevant  850€ maximum pour le loyer, à partir de janvie...\n",
       "1  irrelevant                                         D'imprimer\n",
       "2    purchase  Le meilleur cabriolet hybrid moins de 5m10 min...\n",
       "3  find-hotel  en ce moment je cher un location pour les vaca...\n",
       "4  irrelevant             c'est possible de t'utiliser la nuit ?\n",
       "5  irrelevant                     J'ai besoin d'acheter un fusil\n",
       "6  irrelevant                  Vous pouvez réserver pour 09h oui\n",
       "7  irrelevant    Du 20 au 22 novembre pour 100-150 euros la nuit\n",
       "8    purchase  Mon docteur m'a suggéré de porter des bandes p...\n",
       "9    purchase  Commande à effectuer : 30 bloc note petits car..."
      ]
     },
     "execution_count": 5,
     "metadata": {},
     "output_type": "execute_result"
    }
   ],
   "source": [
    "# Show 10 first elements\n",
    "df_train.head(n=10)"
   ]
  },
  {
   "cell_type": "markdown",
   "metadata": {},
   "source": [
    "### Comments\n",
    "<p>This gives us some examples of rows in the dataset. We notice there are both short and long sentences, well-written or not, which is good to train the model on various writting styles (to work well on the different users' styles in production).</p>"
   ]
  },
  {
   "cell_type": "code",
   "execution_count": 6,
   "metadata": {},
   "outputs": [
    {
     "data": {
      "text/plain": [
       "irrelevant           3852\n",
       "purchase              613\n",
       "find-restaurant       469\n",
       "find-around-me        383\n",
       "find-hotel            316\n",
       "find-train            143\n",
       "find-flight           142\n",
       "provide-showtimes     117\n",
       "Name: intent, dtype: int64"
      ]
     },
     "execution_count": 6,
     "metadata": {},
     "output_type": "execute_result"
    }
   ],
   "source": [
    "# Show the 8 different intents rows counts\n",
    "df_train[\"intent\"].value_counts()"
   ]
  },
  {
   "cell_type": "code",
   "execution_count": 7,
   "metadata": {},
   "outputs": [
    {
     "data": {
      "text/plain": [
       "irrelevant           63.83\n",
       "purchase             10.16\n",
       "find-restaurant       7.77\n",
       "find-around-me        6.35\n",
       "find-hotel            5.24\n",
       "find-train            2.37\n",
       "find-flight           2.35\n",
       "provide-showtimes     1.94\n",
       "Name: intent, dtype: float64"
      ]
     },
     "execution_count": 7,
     "metadata": {},
     "output_type": "execute_result"
    }
   ],
   "source": [
    "# Ratios (%) for each intent\n",
    "total = df_train.shape[0]\n",
    "round(df_train['intent'].value_counts() / total * 100 , 2)"
   ]
  },
  {
   "cell_type": "markdown",
   "metadata": {},
   "source": [
    "### Comments\n",
    "We get here a more detailed count of rows for each intent. As we said before, there are mostly *irrelevant* rows (63%), the dataset is really unbalanced. There will be some analysis to make about the measures used to evaluate any model trained on this dataset.  \n",
    "\n",
    "It's also unbalanced between the 7 'specific' intents. Maybe that's due to the use of the app made by the customers, asking more often for purchase matters than for showtimes ones."
   ]
  },
  {
   "cell_type": "markdown",
   "metadata": {},
   "source": [
    "# Model section"
   ]
  },
  {
   "cell_type": "markdown",
   "metadata": {},
   "source": [
    "The only informations we have about the model are the measures given in the base project's README file. <br>\n",
    "As the main problem is that we don't know how they were computed (which datas, cross-validation or not, etc..), we will try in the following cells to get our own measures on the datas we were given."
   ]
  },
  {
   "cell_type": "code",
   "execution_count": 8,
   "metadata": {},
   "outputs": [
    {
     "data": {
      "text/plain": [
       "0"
      ]
     },
     "execution_count": 8,
     "metadata": {},
     "output_type": "execute_result"
    }
   ],
   "source": [
    "# Launch application to have access to the model\n",
    "# Don't forget to pull image before doing anything else : docker pull wiidiiremi/projet_industrialisation_ia_3a\n",
    "# This may take some time\n",
    "\n",
    "# Change your custom port here\n",
    "port = '8080'\n",
    "os.system('docker run -p 8080:' + port + ' 3eec8ccf7aec &')"
   ]
  },
  {
   "cell_type": "markdown",
   "metadata": {},
   "source": [
    "## About the model\n",
    "The goal of the model is to find among the 8 intents which one fits the most to the user's request (*i.e.* sentence).\n",
    "As a consequence, it is a **classification problem with 8 classes**.  \n",
    "We can confirm the model is a classifier with the 8 probabilities he returns (*json* response) when given a sentence.  \n",
    "However, we can't know what it is made of. It could be either a Neural Network or a Softmax Regression for example."
   ]
  },
  {
   "cell_type": "markdown",
   "metadata": {},
   "source": [
    "## Split datasets in inputs and labels"
   ]
  },
  {
   "cell_type": "code",
   "execution_count": 9,
   "metadata": {},
   "outputs": [
    {
     "name": "stdout",
     "output_type": "stream",
     "text": [
      "Train data shape : (6035,)\n",
      "Train labels shape : (6035,)\n",
      "Test data shape : (1065,)\n",
      "Test labels shape : (1065,)\n"
     ]
    }
   ],
   "source": [
    "df_x_train = df_train['sentence']\n",
    "df_y_train = df_train['intent']\n",
    "df_x_test = df_test['sentence']\n",
    "df_y_test = df_test['intent']\n",
    "\n",
    "print(f\"Train data shape : {df_x_train.shape}\")\n",
    "print(f\"Train labels shape : {df_y_train.shape}\")\n",
    "print(f\"Test data shape : {df_x_test.shape}\")\n",
    "print(f\"Test labels shape : {df_y_test.shape}\")"
   ]
  },
  {
   "cell_type": "markdown",
   "metadata": {},
   "source": [
    "## Get model predictions for both datasets"
   ]
  },
  {
   "cell_type": "code",
   "execution_count": 10,
   "metadata": {},
   "outputs": [],
   "source": [
    "route = 'http://localhost:' + port + '/api/intent?'\n",
    "\n",
    "# Function to get the model's predictions for a given dataset\n",
    "def predict(datas, threshold=None):\n",
    "    \n",
    "    # List of predicted intents\n",
    "    predicted_labels = []\n",
    "    # List of probabilities for the predicted intents\n",
    "    prediction_probabilities = []\n",
    "    \n",
    "    # Request the model for each data\n",
    "    for data in datas:\n",
    "        \n",
    "        try:\n",
    "            res = rq.get(route, {'sentence':data}).json()\n",
    "        except:\n",
    "            print(\"Request Error: Service not available\")\n",
    "            return predicted_labels, prediction_probabilities \n",
    "        \n",
    "        max_key = max(res, key=res.get)\n",
    "        predicted_p = res[max_key]\n",
    "        \n",
    "        if threshold is not None:\n",
    "            predicted_class = max_key if predicted_p >= threshold else 'irrelevant'\n",
    "        else:\n",
    "            predicted_class = max_key\n",
    "            \n",
    "        predicted_values = list(res.values())\n",
    " \n",
    "        predicted_labels.append(predicted_class)\n",
    "        prediction_probabilities.append(predicted_values)\n",
    "        \n",
    "    return predicted_labels, prediction_probabilities   "
   ]
  },
  {
   "cell_type": "code",
   "execution_count": 11,
   "metadata": {},
   "outputs": [],
   "source": [
    "# Get both datasets predictions from the model\n",
    "train_predicted_labels, train_predicted_probabilities = predict(df_x_train)\n",
    "test_predicted_labels, test_predicted_probabilities = predict(df_x_test)\n",
    "\n",
    "assert len(train_predicted_labels) == df_x_train.shape[0]\n",
    "assert len(train_predicted_labels) == df_x_train.shape[0]\n",
    "assert len(test_predicted_labels) == df_x_test.shape[0]\n",
    "assert len(test_predicted_labels) == df_x_test.shape[0]"
   ]
  },
  {
   "cell_type": "markdown",
   "metadata": {},
   "source": [
    "## Compute model's various scores"
   ]
  },
  {
   "cell_type": "code",
   "execution_count": 12,
   "metadata": {},
   "outputs": [
    {
     "data": {
      "text/plain": [
       "<matplotlib.axes._subplots.AxesSubplot at 0x7f95d783e8e0>"
      ]
     },
     "execution_count": 12,
     "metadata": {},
     "output_type": "execute_result"
    },
    {
     "data": {
      "image/png": "[encoded data removed]",
      "text/plain": [
       "<Figure size 432x288 with 2 Axes>"
      ]
     },
     "metadata": {
      "needs_background": "light"
     },
     "output_type": "display_data"
    }
   ],
   "source": [
    "conf_matrix = confusion_matrix(df_y_train, train_predicted_labels)\n",
    "labels = np.unique(df_train[\"intent\"])\n",
    "sns.heatmap(conf_matrix, annot=True, fmt='d', xticklabels=labels, yticklabels=labels)"
   ]
  },
  {
   "cell_type": "markdown",
   "metadata": {},
   "source": [
    "### Comments\n",
    "\n",
    "Once again we notice in this confusion matrix that the dataset is very unbalanced. As the *irrelevant* class is much more represented in the dataset it is consequently much better predicted than the other classes. However, we see here that for each class except *irrelevant*, a large part of the samples have been wrongly predicted to be *irrelevant*, which is due to the over-representation of this class."
   ]
  },
  {
   "cell_type": "code",
   "execution_count": 13,
   "metadata": {},
   "outputs": [
    {
     "name": "stdout",
     "output_type": "stream",
     "text": [
      "                   precision    recall  f1-score   support\n",
      "\n",
      "   find-around-me       0.70      0.39      0.50       383\n",
      "      find-flight       0.96      0.38      0.55       142\n",
      "       find-hotel       0.86      0.48      0.62       316\n",
      "  find-restaurant       0.91      0.61      0.73       469\n",
      "       find-train       0.95      0.51      0.66       143\n",
      "       irrelevant       0.80      0.98      0.88      3852\n",
      "provide-showtimes       0.97      0.29      0.45       117\n",
      "         purchase       0.76      0.56      0.65       613\n",
      "\n",
      "         accuracy                           0.81      6035\n",
      "        macro avg       0.86      0.53      0.63      6035\n",
      "     weighted avg       0.81      0.81      0.79      6035\n",
      "\n"
     ]
    }
   ],
   "source": [
    "# Training scores\n",
    "print(classification_report(df_y_train, train_predicted_labels))"
   ]
  },
  {
   "cell_type": "code",
   "execution_count": 14,
   "metadata": {},
   "outputs": [
    {
     "name": "stdout",
     "output_type": "stream",
     "text": [
      "                   precision    recall  f1-score   support\n",
      "\n",
      "   find-around-me       0.88      0.43      0.58        67\n",
      "      find-flight       0.88      0.29      0.44        24\n",
      "       find-hotel       0.78      0.38      0.51        55\n",
      "  find-restaurant       0.98      0.56      0.71        93\n",
      "       find-train       0.93      0.67      0.78        21\n",
      "       irrelevant       0.79      0.98      0.87       677\n",
      "provide-showtimes       0.80      0.29      0.42        14\n",
      "         purchase       0.79      0.59      0.67       114\n",
      "\n",
      "         accuracy                           0.80      1065\n",
      "        macro avg       0.85      0.52      0.62      1065\n",
      "     weighted avg       0.82      0.80      0.78      1065\n",
      "\n"
     ]
    }
   ],
   "source": [
    "# Test scores\n",
    "print(classification_report(df_y_test, test_predicted_labels))"
   ]
  },
  {
   "cell_type": "code",
   "execution_count": 15,
   "metadata": {},
   "outputs": [],
   "source": [
    "# List of all intents in the same order as the model's output\n",
    "intents = [\"find-train\", \"irrelevant\", \"find-flight\", \"find-restaurant\", \"purchase\", \"find-around-me\", \"provide-showtimes\", \"find-hotel\"]\n",
    "\n",
    "# Function mapping a true label to a probabilities array \n",
    "def labelToProbs(label):\n",
    "    \n",
    "    assert label in intents\n",
    "    \n",
    "    # All probabilities are 0\n",
    "    probs = np.zeros(8)\n",
    "    \n",
    "    for index, intent in enumerate(intents):\n",
    "        if label == intent:\n",
    "            # Set true label porbability to 1\n",
    "            probs[index] = 1\n",
    "            return probs\n",
    "    "
   ]
  },
  {
   "cell_type": "code",
   "execution_count": 16,
   "metadata": {},
   "outputs": [
    {
     "name": "stdout",
     "output_type": "stream",
     "text": [
      "Training ROC AUC : 0.943\n",
      "Test ROC AUC : 0.935\n"
     ]
    }
   ],
   "source": [
    "# ROC AUC scores\n",
    "\n",
    "# Map True labels to probabilties arrays in order to compute ROC score\n",
    "mapping = lambda x: labelToProbs(x)\n",
    "\n",
    "y_true_train = list(map(mapping, df_y_train.to_numpy()))\n",
    "y_true_test = list(map(mapping, df_y_test.to_numpy()))\n",
    "\n",
    "train_roc = roc_auc_score(y_true_train, train_predicted_probabilities, multi_class='ovo')\n",
    "test_roc = roc_auc_score(y_true_test, test_predicted_probabilities, multi_class='ovo')\n",
    "\n",
    "print(f\"Training ROC AUC : {round(train_roc,3)}\")\n",
    "print(f\"Test ROC AUC : {round(test_roc, 3)}\")"
   ]
  },
  {
   "cell_type": "code",
   "execution_count": 17,
   "metadata": {},
   "outputs": [
    {
     "name": "stdout",
     "output_type": "stream",
     "text": [
      "Training Log loss : 3.345\n",
      "Test Log loss : 3.332\n"
     ]
    }
   ],
   "source": [
    "# Log loss\n",
    "train_log_loss = log_loss(df_y_train, train_predicted_probabilities)\n",
    "print(f\"Training Log loss : {round(train_log_loss,3)}\")\n",
    "\n",
    "test_log_loss = log_loss(df_y_test, test_predicted_probabilities)\n",
    "print(f\"Test Log loss : {round(test_log_loss,3)}\")"
   ]
  },
  {
   "cell_type": "markdown",
   "metadata": {},
   "source": [
    "### Comments\n",
    "\n",
    "The classification reports show an accuracy of **81%** for training (**80%** for test). We could say it is not that bad for a first model.\n",
    "However, as we saw in the [Data Section](#data_section) our dataset is unbalanced (64:36 ratio between *irrelevant* class and the seven others). As a conclusion, we can't rate our model with its accuracy since it will tend to choose *irrelevant* to have the best accuracy ([see 'Accuracy Paradox'](https://machinelearningmastery.com/tactics-to-combat-imbalanced-classes-in-your-machine-learning-dataset/)). If this first model wasn't trained to get the best accuracy it is a good thing to have such an accuracy at the end, but we don't have any information about that."
   ]
  },
  {
   "cell_type": "markdown",
   "metadata": {},
   "source": [
    "## Our choice of metrics"
   ]
  },
  {
   "cell_type": "markdown",
   "metadata": {},
   "source": [
    "First of all, we need a metric that is not influenced by unbalanced data as we said previously. For example something like Balanced Accuracy, which is already better in our case than Accuracy. \n",
    "Moreover, we can think about Precision an Recall since we have a classification problem, and even better a F-beta score to use both of them. \n",
    "As a reminder, the purpose of the model here is to help a human agent in his task by classifying the requests of the users before they get to him, and then offer the proper form if we are sure. The thing we want to avoid the most is classification errors, if the model is not sure about a request it should be transmitted to the human agent. That is why the model should be trained more on Precision than Recall since we want to avoid false positives (= classification errors).\n",
    "\n",
    "That is why in the next steps, we will tend to train our model on Precision or F-beta score with beta < 1."
   ]
  },
  {
   "cell_type": "markdown",
   "metadata": {},
   "source": [
    "## About the dataset"
   ]
  },
  {
   "cell_type": "markdown",
   "metadata": {},
   "source": [
    "Our dataset being unbalanced we have various options to train our model:\n",
    "- Keep the same dataset\n",
    "- Undersampling by removing rows of irrelevant intent\n",
    "- Oversampling by replicating under represented intents' rows\n",
    "\n",
    "The best solution in our opinion is to try each of those methods and then compare the resulting models to keep the best one."
   ]
  },
  {
   "cell_type": "markdown",
   "metadata": {},
   "source": [
    "# Thresholding"
   ]
  },
  {
   "cell_type": "markdown",
   "metadata": {},
   "source": [
    "As explained above in our choice of metrics, the model should replace the human agent only when it is sure of the choice he made. This notion of being sure can be interpreted by a model with 100% accuracy. Then when it takes a decision it will be 100% sure about it. However it will no be the what we get in practice, our model won't have 100% precision, except if it overfits which is aother issue.\n",
    "\n",
    "That is why to avoid taking wrong decisions and damaging user experience, we must define a threshold to have some notion of confidence when the model makes a choice. For example taking a 70% threshold would mean that any class with probability higher than 70% would be the prediction of the model. Otherwise, it would predict *irrelevant* since it is not confident enough, and the request will go to the human agent. It is an essantial value in the project, to avoid classification errors."
   ]
  },
  {
   "cell_type": "markdown",
   "metadata": {},
   "source": [
    "## Compute threshold"
   ]
  },
  {
   "cell_type": "markdown",
   "metadata": {},
   "source": [
    "There are various methods to compute optimal threshold for a classification problem. For example, we can compute it from a ROC curve but also with a grid search algorithm.\n",
    "\n",
    "Since we have a multiclass classification problem, it isn't a good idea to compute our threshold from a ROC curve. Indeed this methods mostly works for binary classification problems. We tried it by opposing each class to the seven others but we didn't get good results.\n",
    "\n",
    "That is why we chose a grid search approach. The `predict()` method implemented above can take into account a threshold value, so we will use it with various values. To determine the best one, we will comapre the fbeta scores obtained for each threshold."
   ]
  },
  {
   "cell_type": "code",
   "execution_count": 37,
   "metadata": {},
   "outputs": [
    {
     "name": "stdout",
     "output_type": "stream",
     "text": [
      "Got score 0.79 for t = 0.0\n",
      "Got score 0.79 for t = 0.02\n",
      "Got score 0.79 for t = 0.04\n",
      "Got score 0.79 for t = 0.06\n",
      "Got score 0.79 for t = 0.08\n",
      "Got score 0.79 for t = 0.1\n",
      "Got score 0.79 for t = 0.12\n",
      "Got score 0.79 for t = 0.14\n",
      "Got score 0.79 for t = 0.16\n",
      "Got score 0.79 for t = 0.18\n",
      "Got score 0.79 for t = 0.2\n",
      "Got score 0.79 for t = 0.22\n",
      "Got score 0.79 for t = 0.24\n",
      "Got score 0.79 for t = 0.27\n",
      "Got score 0.79 for t = 0.29\n",
      "Got score 0.79 for t = 0.31\n",
      "Got score 0.79 for t = 0.33\n",
      "Got score 0.79 for t = 0.35\n",
      "Got score 0.78 for t = 0.37\n",
      "Got score 0.77 for t = 0.39\n",
      "Got score 0.76 for t = 0.41\n",
      "Got score 0.76 for t = 0.43\n",
      "Got score 0.75 for t = 0.45\n",
      "Got score 0.74 for t = 0.47\n",
      "Got score 0.73 for t = 0.49\n",
      "Got score 0.73 for t = 0.51\n",
      "Got score 0.72 for t = 0.53\n",
      "Got score 0.72 for t = 0.55\n",
      "Got score 0.71 for t = 0.57\n",
      "Got score 0.69 for t = 0.59\n",
      "Got score 0.67 for t = 0.61\n",
      "Got score 0.66 for t = 0.63\n",
      "Got score 0.66 for t = 0.65\n",
      "Got score 0.64 for t = 0.67\n",
      "Got score 0.63 for t = 0.69\n",
      "Got score 0.61 for t = 0.71\n",
      "Got score 0.59 for t = 0.73\n",
      "Got score 0.58 for t = 0.76\n",
      "Got score 0.57 for t = 0.78\n",
      "Got score 0.56 for t = 0.8\n",
      "Got score 0.55 for t = 0.82\n",
      "Got score 0.53 for t = 0.84\n",
      "Got score 0.52 for t = 0.86\n",
      "Got score 0.5 for t = 0.88\n",
      "Got score 0.48 for t = 0.9\n",
      "Got score 0.47 for t = 0.92\n",
      "Got score 0.45 for t = 0.94\n",
      "Got score 0.45 for t = 0.96\n",
      "Got score 0.44 for t = 0.98\n",
      "Got score 0.44 for t = 1.0\n",
      "Best threshold found is 0.0 with score 0.79\n"
     ]
    }
   ],
   "source": [
    "thresholds = np.linspace(0, 1, 50)\n",
    "scores = []\n",
    "\n",
    "for t in thresholds:\n",
    "    \n",
    "    labels, probs = predict(df_x_test, t)\n",
    "    score = fbeta_score(df_y_test, labels, beta=0.5, average='weighted')\n",
    "    scores.append(score)\n",
    "    print(f\"Got score {round(score,2)} for t = {round(t,2)}\")\n",
    "    \n",
    "best_score = max(scores)\n",
    "best_t = thresholds[scores.index(best_score)]\n",
    "print(f\"Best threshold found is {round(best_t,2)} with score {round(best_score,2)}\")"
   ]
  },
  {
   "cell_type": "code",
   "execution_count": 36,
   "metadata": {},
   "outputs": [
    {
     "name": "stdout",
     "output_type": "stream",
     "text": [
      "[0.7301344529157258, 0.7295040452408831, 0.7283701670794213, 0.727736102676301, 0.7278705339187171, 0.7267118275051055, 0.7228797042328573, 0.7217100671225302, 0.7218237084357085, 0.720674624643041, 0.720674624643041, 0.720674624643041, 0.7170116668133885, 0.7104472634564349, 0.7086988267156792, 0.7000296778496654, 0.6974784883114347, 0.6911329456961187, 0.6884979919689656, 0.6829633579079706, 0.680175192872177, 0.6759003476060144, 0.6755831659247498, 0.6724547645932704, 0.6710599114929748, 0.6678624787884945, 0.6632466767091141, 0.6598733757624782, 0.656448654371111, 0.656448654371111, 0.656448654371111, 0.6528622603959322, 0.6490969858592825, 0.6466306323304017, 0.6413315526206821, 0.6380626872736789, 0.6362783949587213, 0.633882414394993, 0.6312474800400206, 0.6209993431870072, 0.6190915667186015, 0.6130957456407627, 0.6075900874264, 0.6055135624514371, 0.6033469313757445, 0.5980365300900568, 0.5980365300900568, 0.5885703531548826, 0.5885703531548826, 0.5821715440851583, 0.5821715440851583, 0.5821715440851583, 0.5796898481570149, 0.5758023008971213, 0.5697944080712077, 0.5697944080712077, 0.5677223506521275, 0.5637896189426865, 0.561256341794584, 0.5555131859317866, 0.5529771105079333, 0.5529771105079333, 0.5489143302032946, 0.5489143302032946, 0.546025450800739, 0.546025450800739, 0.5338378435735003, 0.5338378435735003, 0.5294460586090033, 0.5265714605264971, 0.5204118784265113, 0.5173619894952722, 0.5140543813588643, 0.5065150461868976, 0.502194456067223, 0.502194456067223, 0.4982229570049626, 0.483199702559548, 0.483199702559548, 0.483199702559548, 0.483199702559548, 0.47954094750900755, 0.47177374404457156, 0.47177374404457156, 0.4587706007075863, 0.45458591707444235, 0.45008602508269796, 0.45008602508269796, 0.445486520923114, 0.445486520923114, 0.445486520923114, 0.445486520923114, 0.4407021956371125, 0.4407021956371125, 0.4407021956371125, 0.4407021956371125, 0.4407021956371125, 0.435847547644927, 0.435847547644927, 0.435847547644927]\n"
     ]
    }
   ],
   "source": [
    "print(scores)"
   ]
  }
 ],
 "metadata": {
  "kernelspec": {
   "display_name": "Python 3",
   "language": "python",
   "name": "python3"
  },
  "language_info": {
   "codemirror_mode": {
    "name": "ipython",
    "version": 3
   },
   "file_extension": ".py",
   "mimetype": "text/x-python",
   "name": "python",
   "nbconvert_exporter": "python",
   "pygments_lexer": "ipython3",
   "version": "3.6.12"
  }
 },
 "nbformat": 4,
 "nbformat_minor": 4
}
