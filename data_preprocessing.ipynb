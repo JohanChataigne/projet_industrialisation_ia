{
 "cells": [
  {
   "cell_type": "code",
   "execution_count": 1,
   "metadata": {},
   "outputs": [],
   "source": [
    "import numpy as np\n",
    "import pandas as pd\n",
    "from imblearn.over_sampling import RandomOverSampler\n",
    "from imblearn.under_sampling import RandomUnderSampler\n",
    "from imblearn.pipeline import Pipeline"
   ]
  },
  {
   "cell_type": "code",
   "execution_count": 2,
   "metadata": {},
   "outputs": [
    {
     "name": "stdout",
     "output_type": "stream",
     "text": [
      "Train shape : (6035, 2)\n",
      "Test shape : (1065, 2)\n"
     ]
    }
   ],
   "source": [
    "# Load training and test sets\n",
    "df_train = pd.read_json('datas/training_set.json')\n",
    "df_test = pd.read_json('datas/testing_set.json')\n",
    "\n",
    "print(f\"Train shape : {df_train.shape}\")\n",
    "print(f\"Test shape : {df_test.shape}\")"
   ]
  },
  {
   "cell_type": "code",
   "execution_count": 3,
   "metadata": {},
   "outputs": [
    {
     "name": "stdout",
     "output_type": "stream",
     "text": [
      "Train data shape : (6035,)\n",
      "Train labels shape : (6035,)\n",
      "Test data shape : (1065,)\n",
      "Test labels shape : (1065,)\n"
     ]
    }
   ],
   "source": [
    "df_x_train = df_train['sentence']\n",
    "df_y_train = df_train['intent']\n",
    "df_x_test = df_test['sentence']\n",
    "df_y_test = df_test['intent']\n",
    "\n",
    "print(f\"Train data shape : {df_x_train.shape}\")\n",
    "print(f\"Train labels shape : {df_y_train.shape}\")\n",
    "print(f\"Test data shape : {df_x_test.shape}\")\n",
    "print(f\"Test labels shape : {df_y_test.shape}\")"
   ]
  },
  {
   "cell_type": "code",
   "execution_count": 4,
   "metadata": {},
   "outputs": [
    {
     "data": {
      "text/plain": [
       "irrelevant           3852\n",
       "purchase              613\n",
       "find-restaurant       469\n",
       "find-around-me        383\n",
       "find-hotel            316\n",
       "find-train            143\n",
       "find-flight           142\n",
       "provide-showtimes     117\n",
       "Name: intent, dtype: int64"
      ]
     },
     "execution_count": 4,
     "metadata": {},
     "output_type": "execute_result"
    }
   ],
   "source": [
    "# Show the 8 different intents rows counts\n",
    "df_y_train.value_counts()"
   ]
  },
  {
   "cell_type": "code",
   "execution_count": 5,
   "metadata": {},
   "outputs": [],
   "source": [
    "df_x_train = np.reshape(df_x_train.to_numpy(), (-1, 1))"
   ]
  },
  {
   "cell_type": "code",
   "execution_count": 6,
   "metadata": {},
   "outputs": [
    {
     "name": "stdout",
     "output_type": "stream",
     "text": [
      "{'find-around-me': 2000, 'find-flight': 2000, 'find-hotel': 2000, 'find-restaurant': 2000, 'find-train': 2000, 'provide-showtimes': 2000, 'purchase': 2000}\n"
     ]
    }
   ],
   "source": [
    "labels = np.unique(df_y_train)\n",
    "oversampling_dict = {}\n",
    "for l in labels:\n",
    "    if l == 'irrelevant': continue\n",
    "    oversampling_dict[l] = 2000\n",
    "print(oversampling_dict)"
   ]
  },
  {
   "cell_type": "code",
   "execution_count": 7,
   "metadata": {},
   "outputs": [],
   "source": [
    "oversampler = RandomOverSampler(sampling_strategy=oversampling_dict)\n",
    "undersampler = RandomUnderSampler(sampling_strategy='majority')"
   ]
  },
  {
   "cell_type": "code",
   "execution_count": 8,
   "metadata": {},
   "outputs": [
    {
     "name": "stdout",
     "output_type": "stream",
     "text": [
      "(17852, 1)\n",
      "(17852,)\n"
     ]
    },
    {
     "data": {
      "text/plain": [
       "irrelevant           3852\n",
       "provide-showtimes    2000\n",
       "find-flight          2000\n",
       "find-restaurant      2000\n",
       "find-hotel           2000\n",
       "find-train           2000\n",
       "find-around-me       2000\n",
       "purchase             2000\n",
       "Name: intent, dtype: int64"
      ]
     },
     "execution_count": 8,
     "metadata": {},
     "output_type": "execute_result"
    }
   ],
   "source": [
    "X_over, Y_over = oversampler.fit_resample(df_x_train, df_y_train)\n",
    "print(X_over.shape)\n",
    "print(Y_over.shape)\n",
    "Y_over.value_counts()"
   ]
  },
  {
   "cell_type": "code",
   "execution_count": 9,
   "metadata": {},
   "outputs": [],
   "source": [
    "X, Y = undersampler.fit_resample(X_over, Y_over)"
   ]
  },
  {
   "cell_type": "code",
   "execution_count": 10,
   "metadata": {},
   "outputs": [
    {
     "name": "stdout",
     "output_type": "stream",
     "text": [
      "(16000, 1)\n",
      "(16000,)\n"
     ]
    },
    {
     "data": {
      "text/plain": [
       "provide-showtimes    2000\n",
       "find-flight          2000\n",
       "find-restaurant      2000\n",
       "find-hotel           2000\n",
       "irrelevant           2000\n",
       "find-train           2000\n",
       "find-around-me       2000\n",
       "purchase             2000\n",
       "Name: intent, dtype: int64"
      ]
     },
     "execution_count": 10,
     "metadata": {},
     "output_type": "execute_result"
    }
   ],
   "source": [
    "print(X.shape)\n",
    "print(Y.shape)\n",
    "Y.value_counts()"
   ]
  }
 ],
 "metadata": {
  "kernelspec": {
   "display_name": "Python 3",
   "language": "python",
   "name": "python3"
  },
  "language_info": {
   "codemirror_mode": {
    "name": "ipython",
    "version": 3
   },
   "file_extension": ".py",
   "mimetype": "text/x-python",
   "name": "python",
   "nbconvert_exporter": "python",
   "pygments_lexer": "ipython3",
   "version": "3.6.12"
  }
 },
 "nbformat": 4,
 "nbformat_minor": 4
}
